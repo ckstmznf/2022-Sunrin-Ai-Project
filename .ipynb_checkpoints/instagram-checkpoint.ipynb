{
 "cells": [
  {
   "cell_type": "code",
   "execution_count": null,
   "id": "f4970bcd",
   "metadata": {
    "scrolled": true
   },
   "outputs": [],
   "source": [
    "!pip install selenium\n"
   ]
  },
  {
   "cell_type": "code",
   "execution_count": null,
   "id": "798d8154",
   "metadata": {},
   "outputs": [],
   "source": [
    "!pip install webdriver-manager"
   ]
  },
  {
   "cell_type": "code",
   "execution_count": 8,
   "id": "c0ff07ce",
   "metadata": {},
   "outputs": [
    {
     "name": "stdout",
     "output_type": "stream",
     "text": [
      "Hello World\n"
     ]
    }
   ],
   "source": [
    "import random, time, bs4\n",
    "import pandas as pd\n",
    "from selenium import webdriver\n",
    "\n",
    "print(\"Hello World\")"
   ]
  },
  {
   "cell_type": "code",
   "execution_count": 2,
   "id": "eef10cc2",
   "metadata": {},
   "outputs": [],
   "source": [
    "def randomTime(time):\n",
    "    return time + random.random()\n",
    "\n",
    "def instaNumber(_num):\n",
    "    num = _num.replace(\",\", \"\")\n",
    "    if(num[-1] == \"k\" or num[-1] == \"K\"):\n",
    "        num = float(num[:-1]) * 1000\n",
    "    elif(num[-1] == \"m\" or num[-1] == \"M\"):\n",
    "        num = float(num[:-1]) * 1000000\n",
    "    \n",
    "    return int(num)"
   ]
  },
  {
   "cell_type": "code",
   "execution_count": 3,
   "id": "898bfe7b",
   "metadata": {},
   "outputs": [],
   "source": [
    "options = webdriver.ChromeOptions()\n",
    "\n",
    "# headless 옵션 설정\n",
    "options.add_argument('headless')\n",
    "options.add_argument(\"no-sandbox\")\n",
    "\n",
    "# 브라우저 윈도우 사이즈\n",
    "options.add_argument('window-size=1920x1080')\n",
    "\n",
    "# 사람처럼 보이게 하는 옵션들\n",
    "options.add_argument(\"disable-gpu\")   # 가속 사용 x\n",
    "options.add_argument(\"lang=ko_KR\")    # 가짜 플러그인 탑재\n",
    "options.add_argument('user-agent=Mozilla/5.0 (Macintosh; Intel Mac OS X 10_12_6) AppleWebKit/537.36 (KHTML, like Gecko) Chrome/61.0.3163.100 Safari/537.36')  # user-agent 이름 설정"
   ]
  },
  {
   "cell_type": "code",
   "execution_count": 4,
   "id": "e2e9ede1",
   "metadata": {},
   "outputs": [],
   "source": [
    "import glob"
   ]
  },
  {
   "cell_type": "code",
   "execution_count": 5,
   "id": "27f7cd00",
   "metadata": {},
   "outputs": [
    {
     "name": "stderr",
     "output_type": "stream",
     "text": [
      "C:\\Users\\heechan\\AppData\\Local\\Temp\\ipykernel_24048\\1789161145.py:1: DeprecationWarning: executable_path has been deprecated, please pass in a Service object\n",
      "  driver = webdriver.Chrome(glob.glob(\"C:/workspace/chromedriver/*.exe\")[0])\n"
     ]
    }
   ],
   "source": [
    "driver = webdriver.Chrome(glob.glob(\"C:/workspace/chromedriver/*.exe\")[0])\n",
    "\n",
    "driver.get('https://www.instagram.com/')\n",
    "\n",
    "# driver.implicitly_wait(3)\n",
    "\n",
    "# driver.find_element_by_xpath('//*[@id=\"loginForm\"]/div/div[1]/div/label/input').send_keys(instagram_username)\n",
    "# driver.find_element_by_xpath('//*[@id=\"loginForm\"]/div/div[2]/div/label/input').send_keys(instagram_password)\n",
    "\n",
    "# driver.find_element_by_xpath('//*[@id=\"loginForm\"]/div/div[3]/button').click()\n",
    "\n",
    "driver.implicitly_wait(3)"
   ]
  },
  {
   "cell_type": "code",
   "execution_count": 26,
   "id": "d6f322a7",
   "metadata": {
    "scrolled": false
   },
   "outputs": [],
   "source": [
    "from selenium.webdriver.common.action_chains import ActionChains\n",
    "from selenium.webdriver.common.keys import Keys\n",
    "\n",
    "actions = ActionChains(driver)\n",
    "\n",
    "def userInfo(userId):\n",
    "    result = {\"userid\" : userId}\n",
    "    driver.get(f'https://www.instagram.com/{userId}')\n",
    "\n",
    "    time.sleep(3)\n",
    "\n",
    "    postCount = driver.find_element_by_xpath('/html/body/div[1]/div/div[1]/div/div[1]/div/div/div[1]/div[1]/section/main/div/header/section/ul/li[1]/div/span').text\n",
    "    postCount = instaNumber(postCount)\n",
    "    result[\"postCount\"] = postCount\n",
    "\n",
    "    followerCount = driver.find_element_by_xpath('/html/body/div[1]/div/div[1]/div/div[1]/div/div/div[1]/div[1]/section/main/div/header/section/ul/li[2]/a/div/span').text\n",
    "    followerCount = instaNumber(followerCount)\n",
    "    result[\"followerCount\"] = followerCount\n",
    "\n",
    "    folloingCount = driver.find_element_by_xpath('/html/body/div[1]/div/div[1]/div/div[1]/div/div/div[1]/div[1]/section/main/div/header/section/ul/li[3]/a/div/span').text\n",
    "    folloingCount = instaNumber(folloingCount)\n",
    "    result[\"folloingCount\"] = folloingCount\n",
    "\n",
    "#     print(f\"게시물 : {postCount:,}개, 팔로워 : {followerCount:,}명, 팔로잉 : {folloingCount:,}명\")\n",
    "\n",
    "\n",
    "    pidCount = 0\n",
    "    likeCountSum = 0\n",
    "    commentCountSum = 0\n",
    "    \n",
    "    pidRowList = driver.find_elements_by_css_selector(\"._ac7v._aang\")\n",
    "\n",
    "    for n, i in enumerate(pidRowList):\n",
    "        pidItemList = i.find_elements_by_css_selector(\"._aabd._aa8k._aanf\")\n",
    "\n",
    "        for j in pidItemList:\n",
    "            actions.move_to_element(j)\n",
    "            actions.perform()\n",
    "\n",
    "\n",
    "            li = j.find_elements_by_css_selector(\"li._abpm\")\n",
    "\n",
    "            likeCount = instaNumber(li[0].find_element_by_css_selector(\"span\").text)\n",
    "            commentCount = instaNumber(li[1].find_element_by_css_selector(\"span\").text)\n",
    "            \n",
    "            likeCountSum += likeCount\n",
    "            commentCountSum += commentCount\n",
    "            \n",
    "            pidCount += 1\n",
    "\n",
    "#             print(f\"종아요 : {likeCount}, 댓글 : {commentCount}\")\n",
    "\n",
    "            time.sleep(2)\n",
    "    \n",
    "        if(n + 1 == len(pidRowList)):\n",
    "            break\n",
    "    \n",
    "    result[\"pidCount\"] = pidCount\n",
    "    result[\"likeCount\"] = likeCountSum\n",
    "    result[\"commentCount\"] = commentCountSum\n",
    "\n",
    "    # 피드마다 방문한뒤 좋아요 수랑 댓글 작성자를 가져온다.\n",
    "    \n",
    "    commentUserSet = set()\n",
    "    \n",
    "    try:\n",
    "        driver.find_element_by_xpath('/html/body/div[1]/div/div[1]/div/div[1]/div/div/div[1]/div[1]/section/main/div/div[2]/article/div[1]/div/div[1]/div[1]/a').click()\n",
    "    except:\n",
    "        driver.find_element_by_xpath('/html/body/div[1]/div/div[1]/div/div[1]/div/div/div[1]/div[1]/section/main/div/div[3]/article/div/div/div[1]/div[1]/a').click()\n",
    "    nextBtn = driver.find_element_by_xpath('/html/body/div[1]/div/div[1]/div/div[2]/div/div/div[1]/div/div[3]/div/div/div/div/div[1]/div/div/div/button')\n",
    "    \n",
    "    for j in range(min(pidCount, 3)):\n",
    "        time.sleep(5)    \n",
    "        html = driver.page_source\n",
    "        soup = bs4.BeautifulSoup(html)\n",
    "        commentList = soup.find_all(\"ul\", {\"class\" : \"_a9ym\"})\n",
    "        for i in commentList:\n",
    "            commentUserSet.add(i.find(\"h3\").text.replace(\"인증됨\", \"\"))\n",
    "#             print(i.find(\"h3\").text.replace(\"인증됨\", \"\"))\n",
    "\n",
    "        nextBtn.click()\n",
    "    \n",
    "    result[\"commentUserList\"] = list(commentUserSet)\n",
    "    \n",
    "    return result"
   ]
  },
  {
   "cell_type": "code",
   "execution_count": null,
   "id": "4a52582d",
   "metadata": {},
   "outputs": [],
   "source": [
    "userIdList = [\"instagram\"]\n",
    "\n",
    "dataSet = pd.DataFrame(columns=[\"userid\", \"postCount\", \"followerCount\", \"folloingCount\", \"pidCount\", \"likeCount\", \"commentCount\"])\n",
    "\n",
    "\n",
    "for n, i in enumerate(userIdList):\n",
    "    try:\n",
    "        result = userInfo(i)\n",
    "        print(result)\n",
    "        dataSet = dataSet.append([result])\n",
    "        userIdList.extend(result[\"commentUserList\"])\n",
    "\n",
    "#         if(n == 2):\n",
    "#             break\n",
    "    except:\n",
    "        print(f\"{i} ER\")\n",
    "        continue\n",
    "        \n",
    "dataSet"
   ]
  },
  {
   "cell_type": "code",
   "execution_count": null,
   "id": "6730e4cf",
   "metadata": {},
   "outputs": [],
   "source": [
    "dataSet"
   ]
  }
 ],
 "metadata": {
  "kernelspec": {
   "display_name": "Python 3 (ipykernel)",
   "language": "python",
   "name": "python3"
  },
  "language_info": {
   "codemirror_mode": {
    "name": "ipython",
    "version": 3
   },
   "file_extension": ".py",
   "mimetype": "text/x-python",
   "name": "python",
   "nbconvert_exporter": "python",
   "pygments_lexer": "ipython3",
   "version": "3.9.12"
  }
 },
 "nbformat": 4,
 "nbformat_minor": 5
}
