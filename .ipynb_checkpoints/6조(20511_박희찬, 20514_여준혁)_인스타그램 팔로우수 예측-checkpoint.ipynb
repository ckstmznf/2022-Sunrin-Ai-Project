{
 "cells": [
  {
   "cell_type": "markdown",
   "id": "6113a4d6",
   "metadata": {},
   "source": [
    "# 프로젝트 개요\n",
    "\n",
    "[ 파일명 수정 ]\n",
    "- 조(학번_이름, 학번_이름)_주제명.ipynb\n",
    "\n",
    "[ 팀원 ]\n",
    "- 팀원 1 학번 : 20511\n",
    "- 팀원 1 이름 : 박희찬\n",
    "- 팀원 2 학번 : 20514\n",
    "- 팀원 2 이름 : 여준혁\n",
    " \n",
    "[ 주제 ]\n",
    "- 프로젝트 주제 : 인스타 사용자의 피드와전체 피트의 좋아요, 댓글의 총합을 사용해서 팔로우 수 예측하기\n",
    "\n",
    "[ 유의사항 ]\n",
    "- 각 단계마다 Markdown과 Code를 최대한 구체적으로 작성할 것\n",
    "- 아래의 양식은 가이드라인일 뿐, 머신러닝 과정의 6단계와 필수 조건이 모두 존재한다면 양식 및 순서 등을 자유롭게 수정하여 작성 가능함"
   ]
  },
  {
   "cell_type": "code",
   "execution_count": 1,
   "id": "9306fe10",
   "metadata": {},
   "outputs": [
    {
     "name": "stdout",
     "output_type": "stream",
     "text": [
      "Hello World\n"
     ]
    }
   ],
   "source": [
    "import pandas as pd\n",
    "import numpy as np\n",
    "import matplotlib.pyplot as plt\n",
    "\n",
    "print(\"Hello World\")"
   ]
  },
  {
   "cell_type": "markdown",
   "id": "df8dcfd4",
   "metadata": {},
   "source": [
    "# 1. 문제 정의 \n",
    "\n",
    "[ 내용 ]\n",
    "- 프로젝트 주제를 구체적으로 설명 (주제 / 선정 이유 / 계획 등)"
   ]
  },
  {
   "cell_type": "markdown",
   "id": "d2cf7af5",
   "metadata": {},
   "source": [
    "\n",
    "[ 문제 정의 ]\n",
    "- 주제 (# 필수 조건)\n",
    "     - 인스타 스팸 계정 구분\n",
    "- 선정 이유 (# 필수 조건)\n",
    "\n",
    "> 인스타그램에서 새로운 사람이 날 팔로우하고, DM이 왔다.\n",
    "> \n",
    "> 셀레이는 마음으로 어떤 사람일지 보니까 DM 내용이 다음과 같았다.\n",
    "\n",
    "\n",
    "```\n",
    "\n",
    "\n",
    "\n",
    "\n",
    "\n",
    "\n",
    "\n",
    "\n",
    "\n",
    "\n",
    "\n",
    "\n",
    "\n",
    "\n",
    "\n",
    "\n",
    "\n",
    "\n",
    "\n",
    "\n",
    "\n",
    "\n",
    "\n",
    "\n",
    "\n",
    "\n",
    "```\n",
    "\n",
    "\n",
    "\n",
    "<img src=\"https://i.imgur.com/UgtZh1O.jpg\" width=\"500\"/>\n",
    "\n",
    "\n",
    "> 스팸 계정에 속았다는 분함에 이 프로젝트를 기획 했다.\n",
    "\n",
    "- 계획\n",
    "    - 플랜 A : 데이터를 직접 크롤링 해서 인스타에서 직접 데이터를 가져온다.\n",
    "    - 플랜 B : 케글에 있는 아주 좋고 깔끔하고 편리한 데이터를 가져온다\n",
    "    \n",
    "- 크롤링은 성공 했지만, 학습이 잘 시켜지지 않았다. 플랜 A 실패"
   ]
  },
  {
   "cell_type": "code",
   "execution_count": null,
   "id": "bc6d8e01",
   "metadata": {},
   "outputs": [],
   "source": []
  },
  {
   "cell_type": "markdown",
   "id": "b0605cc5",
   "metadata": {},
   "source": [
    "# 2. 데이터 수집\n",
    "\n",
    "[ 내용 ]\n",
    "- 프로젝트 진행을 위해 필요한 데이터 수집\n",
    "- 사이킷런에 내장되어 있는 학습용 데이터 사용 금지\n",
    "- 수집한 데이터의 소스(사이트 및 링크) 반드시 기재 "
   ]
  },
  {
   "cell_type": "markdown",
   "id": "e31e409c",
   "metadata": {},
   "source": [
    "[ 데이터 수집 ]\n",
    "- 데이터 파일명 (# 필수 조건) : user_info.csv\n",
    "- 데이터 소스 (# 필수 조건)\n",
    "    - profile pic : 계정의 프로필 사진 여부\n",
    "    - nums/length username : 계정 이름의 숫자, 문자의 비율\n",
    "    - fullname words : 계정 이름의 단어 수\n",
    "    - nums/length fullname : 계정 이름에서 숫자가 차지하는 비율\n",
    "    - name==username : 사용자 이름과 계정 이름이 같은지\n",
    "    - description length : 계정 설명의 길이\n",
    "    - external URL : 계정의 외부 링크가 있는지\n",
    "    - private : 계정이 비공개인지\n",
    "    - #posts : 게시물 수\n",
    "    - #followers : 팔로워 수\n",
    "    - #follows : 팔로우 수\n",
    "    - fake : 스팸 계정 여부\n",
    "- "
   ]
  },
  {
   "cell_type": "code",
   "execution_count": 2,
   "id": "ca429bb3",
   "metadata": {},
   "outputs": [],
   "source": [
    "# 데이터 수집"
   ]
  },
  {
   "cell_type": "code",
   "execution_count": 3,
   "id": "6188bc7b",
   "metadata": {},
   "outputs": [
    {
     "data": {
      "text/html": [
       "<div>\n",
       "<style scoped>\n",
       "    .dataframe tbody tr th:only-of-type {\n",
       "        vertical-align: middle;\n",
       "    }\n",
       "\n",
       "    .dataframe tbody tr th {\n",
       "        vertical-align: top;\n",
       "    }\n",
       "\n",
       "    .dataframe thead th {\n",
       "        text-align: right;\n",
       "    }\n",
       "</style>\n",
       "<table border=\"1\" class=\"dataframe\">\n",
       "  <thead>\n",
       "    <tr style=\"text-align: right;\">\n",
       "      <th></th>\n",
       "      <th>profile pic</th>\n",
       "      <th>nums/length username</th>\n",
       "      <th>fullname words</th>\n",
       "      <th>nums/length fullname</th>\n",
       "      <th>name==username</th>\n",
       "      <th>description length</th>\n",
       "      <th>external URL</th>\n",
       "      <th>private</th>\n",
       "      <th>#posts</th>\n",
       "      <th>#followers</th>\n",
       "      <th>#follows</th>\n",
       "      <th>fake</th>\n",
       "    </tr>\n",
       "  </thead>\n",
       "  <tbody>\n",
       "    <tr>\n",
       "      <th>0</th>\n",
       "      <td>1</td>\n",
       "      <td>0.27</td>\n",
       "      <td>0</td>\n",
       "      <td>0.0</td>\n",
       "      <td>0</td>\n",
       "      <td>53</td>\n",
       "      <td>0</td>\n",
       "      <td>0</td>\n",
       "      <td>32</td>\n",
       "      <td>1000</td>\n",
       "      <td>955</td>\n",
       "      <td>0</td>\n",
       "    </tr>\n",
       "    <tr>\n",
       "      <th>1</th>\n",
       "      <td>1</td>\n",
       "      <td>0.00</td>\n",
       "      <td>2</td>\n",
       "      <td>0.0</td>\n",
       "      <td>0</td>\n",
       "      <td>44</td>\n",
       "      <td>0</td>\n",
       "      <td>0</td>\n",
       "      <td>286</td>\n",
       "      <td>2740</td>\n",
       "      <td>533</td>\n",
       "      <td>0</td>\n",
       "    </tr>\n",
       "    <tr>\n",
       "      <th>2</th>\n",
       "      <td>1</td>\n",
       "      <td>0.10</td>\n",
       "      <td>2</td>\n",
       "      <td>0.0</td>\n",
       "      <td>0</td>\n",
       "      <td>0</td>\n",
       "      <td>0</td>\n",
       "      <td>1</td>\n",
       "      <td>13</td>\n",
       "      <td>159</td>\n",
       "      <td>98</td>\n",
       "      <td>0</td>\n",
       "    </tr>\n",
       "    <tr>\n",
       "      <th>3</th>\n",
       "      <td>1</td>\n",
       "      <td>0.00</td>\n",
       "      <td>1</td>\n",
       "      <td>0.0</td>\n",
       "      <td>0</td>\n",
       "      <td>82</td>\n",
       "      <td>0</td>\n",
       "      <td>0</td>\n",
       "      <td>679</td>\n",
       "      <td>414</td>\n",
       "      <td>651</td>\n",
       "      <td>0</td>\n",
       "    </tr>\n",
       "    <tr>\n",
       "      <th>4</th>\n",
       "      <td>1</td>\n",
       "      <td>0.00</td>\n",
       "      <td>2</td>\n",
       "      <td>0.0</td>\n",
       "      <td>0</td>\n",
       "      <td>0</td>\n",
       "      <td>0</td>\n",
       "      <td>1</td>\n",
       "      <td>6</td>\n",
       "      <td>151</td>\n",
       "      <td>126</td>\n",
       "      <td>0</td>\n",
       "    </tr>\n",
       "    <tr>\n",
       "      <th>...</th>\n",
       "      <td>...</td>\n",
       "      <td>...</td>\n",
       "      <td>...</td>\n",
       "      <td>...</td>\n",
       "      <td>...</td>\n",
       "      <td>...</td>\n",
       "      <td>...</td>\n",
       "      <td>...</td>\n",
       "      <td>...</td>\n",
       "      <td>...</td>\n",
       "      <td>...</td>\n",
       "      <td>...</td>\n",
       "    </tr>\n",
       "    <tr>\n",
       "      <th>691</th>\n",
       "      <td>1</td>\n",
       "      <td>0.29</td>\n",
       "      <td>1</td>\n",
       "      <td>0.0</td>\n",
       "      <td>0</td>\n",
       "      <td>0</td>\n",
       "      <td>0</td>\n",
       "      <td>0</td>\n",
       "      <td>13</td>\n",
       "      <td>114</td>\n",
       "      <td>811</td>\n",
       "      <td>1</td>\n",
       "    </tr>\n",
       "    <tr>\n",
       "      <th>692</th>\n",
       "      <td>1</td>\n",
       "      <td>0.40</td>\n",
       "      <td>1</td>\n",
       "      <td>0.0</td>\n",
       "      <td>0</td>\n",
       "      <td>0</td>\n",
       "      <td>0</td>\n",
       "      <td>0</td>\n",
       "      <td>4</td>\n",
       "      <td>150</td>\n",
       "      <td>164</td>\n",
       "      <td>1</td>\n",
       "    </tr>\n",
       "    <tr>\n",
       "      <th>693</th>\n",
       "      <td>1</td>\n",
       "      <td>0.00</td>\n",
       "      <td>2</td>\n",
       "      <td>0.0</td>\n",
       "      <td>0</td>\n",
       "      <td>0</td>\n",
       "      <td>0</td>\n",
       "      <td>0</td>\n",
       "      <td>3</td>\n",
       "      <td>833</td>\n",
       "      <td>3572</td>\n",
       "      <td>1</td>\n",
       "    </tr>\n",
       "    <tr>\n",
       "      <th>694</th>\n",
       "      <td>0</td>\n",
       "      <td>0.17</td>\n",
       "      <td>1</td>\n",
       "      <td>0.0</td>\n",
       "      <td>0</td>\n",
       "      <td>0</td>\n",
       "      <td>0</td>\n",
       "      <td>0</td>\n",
       "      <td>1</td>\n",
       "      <td>219</td>\n",
       "      <td>1695</td>\n",
       "      <td>1</td>\n",
       "    </tr>\n",
       "    <tr>\n",
       "      <th>695</th>\n",
       "      <td>1</td>\n",
       "      <td>0.44</td>\n",
       "      <td>1</td>\n",
       "      <td>0.0</td>\n",
       "      <td>0</td>\n",
       "      <td>0</td>\n",
       "      <td>0</td>\n",
       "      <td>0</td>\n",
       "      <td>3</td>\n",
       "      <td>39</td>\n",
       "      <td>68</td>\n",
       "      <td>1</td>\n",
       "    </tr>\n",
       "  </tbody>\n",
       "</table>\n",
       "<p>696 rows × 12 columns</p>\n",
       "</div>"
      ],
      "text/plain": [
       "     profile pic  nums/length username  fullname words  nums/length fullname  \\\n",
       "0              1                  0.27               0                   0.0   \n",
       "1              1                  0.00               2                   0.0   \n",
       "2              1                  0.10               2                   0.0   \n",
       "3              1                  0.00               1                   0.0   \n",
       "4              1                  0.00               2                   0.0   \n",
       "..           ...                   ...             ...                   ...   \n",
       "691            1                  0.29               1                   0.0   \n",
       "692            1                  0.40               1                   0.0   \n",
       "693            1                  0.00               2                   0.0   \n",
       "694            0                  0.17               1                   0.0   \n",
       "695            1                  0.44               1                   0.0   \n",
       "\n",
       "     name==username  description length  external URL  private  #posts  \\\n",
       "0                 0                  53             0        0      32   \n",
       "1                 0                  44             0        0     286   \n",
       "2                 0                   0             0        1      13   \n",
       "3                 0                  82             0        0     679   \n",
       "4                 0                   0             0        1       6   \n",
       "..              ...                 ...           ...      ...     ...   \n",
       "691               0                   0             0        0      13   \n",
       "692               0                   0             0        0       4   \n",
       "693               0                   0             0        0       3   \n",
       "694               0                   0             0        0       1   \n",
       "695               0                   0             0        0       3   \n",
       "\n",
       "     #followers  #follows  fake  \n",
       "0          1000       955     0  \n",
       "1          2740       533     0  \n",
       "2           159        98     0  \n",
       "3           414       651     0  \n",
       "4           151       126     0  \n",
       "..          ...       ...   ...  \n",
       "691         114       811     1  \n",
       "692         150       164     1  \n",
       "693         833      3572     1  \n",
       "694         219      1695     1  \n",
       "695          39        68     1  \n",
       "\n",
       "[696 rows x 12 columns]"
      ]
     },
     "execution_count": 3,
     "metadata": {},
     "output_type": "execute_result"
    }
   ],
   "source": [
    "user_data = pd.read_csv(\"user_info.csv\")\n",
    "\n",
    "user_data"
   ]
  },
  {
   "cell_type": "markdown",
   "id": "abdad177",
   "metadata": {},
   "source": [
    "# 3. 데이터 전처리\n",
    "\n",
    "[ 내용 ]\n",
    "- 데이터 분석 및 모델 학습을 위한 구조로 데이터를 가공하거나 변형\n",
    "- 기본적으로 코드(판다스 및 넘파이 라이브러리 등 활용)를 통해 전처리 작업을 수행해야 하지만, 힘들 경우 데이터 파일 자체를 수정하여 전처리하여도 됨\n",
    "- (# 필수 조건 : 위의 경우, 수행해야 하는 전처리 작업과 수행하지 못한 이유를 작성해야 함)\n",
    "- 모든 전처리 작업이 수행된 최종 데이터를 명시해야 함"
   ]
  },
  {
   "cell_type": "markdown",
   "id": "62b8feda",
   "metadata": {},
   "source": [
    "[ 데이터 전처리 ]\n",
    "- 필요한 전처리 작업 : \n",
    "- 전처리 결과 : \n",
    "- "
   ]
  },
  {
   "cell_type": "code",
   "execution_count": 3,
   "id": "ed2d0bbc",
   "metadata": {},
   "outputs": [],
   "source": [
    "# 데이터 전처리"
   ]
  },
  {
   "cell_type": "code",
   "execution_count": null,
   "id": "4db1e7dd",
   "metadata": {},
   "outputs": [],
   "source": []
  },
  {
   "cell_type": "markdown",
   "id": "619f78a2",
   "metadata": {},
   "source": [
    "# 4. 데이터 분석\n",
    "\n",
    "[ 내용 ]\n",
    "- 수집한 데이터의 탐색 및 분석을 진행\n",
    "- 반드시 하나 이상의 그래프(맷플롯립 라이브러리 등 활용)를 활용해야 함 (# 필수 조건)\n",
    "- 매 데이터 분석의 결과를 명시해야 함 (# 필수 조건)"
   ]
  },
  {
   "cell_type": "markdown",
   "id": "30a86edf",
   "metadata": {},
   "source": [
    "[ 데이터 분석 ]\n",
    "- 분석 내용 : \n",
    "- 분석 결과 : \n",
    "- "
   ]
  },
  {
   "cell_type": "code",
   "execution_count": 9,
   "id": "4f7fb879",
   "metadata": {},
   "outputs": [],
   "source": [
    "plt.rc(\"font\", family=\"Malgun Gothic\")\n",
    "plt.rcParams[\"axes.unicode_minus\"] = False"
   ]
  },
  {
   "cell_type": "code",
   "execution_count": 49,
   "id": "e66e5530",
   "metadata": {},
   "outputs": [
    {
     "data": {
      "image/png": "[encoded data removed]",
      "text/plain": [
       "<Figure size 432x288 with 1 Axes>"
      ]
     },
     "metadata": {},
     "output_type": "display_data"
    }
   ],
   "source": [
    "lables = [\"같다\", \"다르다\"]\n",
    "\n",
    "plt.title(\"사용자의 이름과 계정 이름이 같은 계정의 비율\")\n",
    "\n",
    "same = len(user_data[user_data[\"name==username\"] == 1])\n",
    "diff = len(user_data[user_data[\"name==username\"] == 0])\n",
    "\n",
    "plt.pie([same, diff], labels=lables, autopct='%1.1f%%')\n",
    "\n",
    "plt.legend(lables)\n",
    "\n",
    "plt.show()"
   ]
  },
  {
   "cell_type": "code",
   "execution_count": 52,
   "id": "d49e4afd",
   "metadata": {},
   "outputs": [
    {
     "data": {
      "image/png": "[encoded data removed]",
      "text/plain": [
       "<Figure size 432x288 with 1 Axes>"
      ]
     },
     "metadata": {},
     "output_type": "display_data"
    }
   ],
   "source": [
    "lables = [\"같은데 스팸이 아니다.\", \"다른데 스팸이 아니다\", \"같은데 스팸이다\", \"다른데 스팸이다\"]\n",
    "\n",
    "same = len(user_data[(user_data[\"name==username\"] == 1) & (user_data[\"fake\"] == 0)])\n",
    "diff = len(user_data[(user_data[\"name==username\"] == 0) & (user_data[\"fake\"] == 0)])\n",
    "sameFake = len(user_data[(user_data[\"name==username\"] == 1) & (user_data[\"fake\"] == 1)])\n",
    "diffFake = len(user_data[(user_data[\"name==username\"] == 0) & (user_data[\"fake\"] == 1)])\n",
    "\n",
    "\n",
    "plt.title(\"사용자의 이름과 계정 이름이 같은 계정의 비율\")\n",
    "\n",
    "plt.pie([same, diff, sameFake, diffFake], labels=lables, autopct='%1.1f%%')\n",
    "\n",
    "plt.legend(lables)\n",
    "\n",
    "plt.show()"
   ]
  },
  {
   "cell_type": "markdown",
   "id": "133ba38d",
   "metadata": {},
   "source": [
    "# 5. 모델 학습\n",
    "\n",
    "[ 내용 ] \n",
    "- 머신러닝 알고리즘(회귀 및 분류)을 사용하여 모델의 학습을 진행\n",
    "- 수업시간에 배운 것 이외의 알고리즘도 사용 가능함\n",
    "- (# 필수 조건 : 위의 경우, 해당 알고리즘의 원리 및 간단한 설명을 작성해야 함)\n",
    "- 반드시 '훈련 데이터'를 이용하여 모델의 학습을 진행해야 함 (# 필수 조건)"
   ]
  },
  {
   "cell_type": "markdown",
   "id": "50c8a61f",
   "metadata": {},
   "source": [
    "[ 모델 학습 ]\n",
    "- 사용한 머신러닝 알고리즘 (# 필수 조건) : \n",
    "- 해당 알고리즘의 원리 : \n",
    "- "
   ]
  },
  {
   "cell_type": "code",
   "execution_count": 5,
   "id": "8abecae2",
   "metadata": {},
   "outputs": [],
   "source": [
    "# 모델 학습"
   ]
  },
  {
   "cell_type": "code",
   "execution_count": null,
   "id": "d5fa12c6",
   "metadata": {},
   "outputs": [],
   "source": []
  },
  {
   "cell_type": "markdown",
   "id": "8871da5b",
   "metadata": {},
   "source": [
    "# 6. 모델 평가\n",
    "\n",
    "[ 내용 ]\n",
    "- 학습이 완료된 모델을 통해 값을 예측해보고, 최종적으로 모델의 성능을 평가\n",
    "- 반드시 '테스트 데이터'를 이용하여 모델의 학습을 진행해야 함 (# 필수 조건)"
   ]
  },
  {
   "cell_type": "markdown",
   "id": "f5613b4f",
   "metadata": {},
   "source": [
    "[ 모델 평가 ]\n",
    "- 성능 평가 결과 : \n",
    "- "
   ]
  },
  {
   "cell_type": "code",
   "execution_count": 6,
   "id": "50f43de1",
   "metadata": {},
   "outputs": [],
   "source": [
    "# 모델 평가"
   ]
  },
  {
   "cell_type": "code",
   "execution_count": null,
   "id": "be210c0e",
   "metadata": {},
   "outputs": [],
   "source": []
  },
  {
   "cell_type": "markdown",
   "id": "815d1a8b",
   "metadata": {},
   "source": [
    "# 프로젝트 마무리\n",
    "\n",
    "[ 결론 ]\n",
    "- 진행한 프로젝트 정리"
   ]
  },
  {
   "cell_type": "markdown",
   "id": "7461c4ca",
   "metadata": {},
   "source": [
    "- 요약 (# 필수 조건) : \n",
    "- 의의 (# 필수 조건) : \n",
    "- 느낀점 (# 필수 조건) : \n",
    "- "
   ]
  },
  {
   "cell_type": "code",
   "execution_count": null,
   "id": "f2e47f5a",
   "metadata": {},
   "outputs": [],
   "source": []
  }
 ],
 "metadata": {
  "kernelspec": {
   "display_name": "Python 3 (ipykernel)",
   "language": "python",
   "name": "python3"
  },
  "language_info": {
   "codemirror_mode": {
    "name": "ipython",
    "version": 3
   },
   "file_extension": ".py",
   "mimetype": "text/x-python",
   "name": "python",
   "nbconvert_exporter": "python",
   "pygments_lexer": "ipython3",
   "version": "3.9.12"
  }
 },
 "nbformat": 4,
 "nbformat_minor": 5
}
