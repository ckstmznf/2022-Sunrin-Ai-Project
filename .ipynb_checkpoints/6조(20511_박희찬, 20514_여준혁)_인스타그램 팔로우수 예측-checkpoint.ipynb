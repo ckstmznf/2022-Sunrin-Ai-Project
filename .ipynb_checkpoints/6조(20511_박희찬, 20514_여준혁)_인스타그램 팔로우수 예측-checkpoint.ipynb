{
 "cells": [
  {
   "cell_type": "markdown",
   "id": "6113a4d6",
   "metadata": {},
   "source": [
    "# 프로젝트 개요\n",
    "\n",
    "[ 파일명 수정 ]\n",
    "- 조(학번_이름, 학번_이름)_주제명.ipynb\n",
    "\n",
    "[ 팀원 ]\n",
    "- 팀원 1 학번 : 20511\n",
    "- 팀원 1 이름 : 박희찬\n",
    "- 팀원 2 학번 : 20514\n",
    "- 팀원 2 이름 : 여준혁\n",
    " \n",
    "[ 주제 ]\n",
    "- 프로젝트 주제 : 인스타 사용자의 피드와전체 피트의 좋아요, 댓글의 총합을 사용해서 팔로우 수 예측하기\n",
    "\n",
    "[ 유의사항 ]\n",
    "- 각 단계마다 Markdown과 Code를 최대한 구체적으로 작성할 것\n",
    "- 아래의 양식은 가이드라인일 뿐, 머신러닝 과정의 6단계와 필수 조건이 모두 존재한다면 양식 및 순서 등을 자유롭게 수정하여 작성 가능함"
   ]
  },
  {
   "cell_type": "code",
   "execution_count": null,
   "id": "9306fe10",
   "metadata": {},
   "outputs": [],
   "source": []
  },
  {
   "cell_type": "markdown",
   "id": "df8dcfd4",
   "metadata": {},
   "source": [
    "# 1. 문제 정의 \n",
    "\n",
    "[ 내용 ]\n",
    "- 프로젝트 주제를 구체적으로 설명 (주제 / 선정 이유 / 계획 등)"
   ]
  },
  {
   "cell_type": "markdown",
   "id": "d2cf7af5",
   "metadata": {},
   "source": [
    "\n",
    "[ 문제 정의 ]\n",
    "- 주제 (# 필수 조건) : \n",
    "- 선정 이유 (# 필수 조건) :\n",
    "- 계획 : \n",
    "- "
   ]
  },
  {
   "cell_type": "code",
   "execution_count": 1,
   "id": "0ddf63e0",
   "metadata": {},
   "outputs": [],
   "source": [
    "# 문제 정의"
   ]
  },
  {
   "cell_type": "code",
   "execution_count": null,
   "id": "bc6d8e01",
   "metadata": {},
   "outputs": [],
   "source": []
  },
  {
   "cell_type": "markdown",
   "id": "b0605cc5",
   "metadata": {},
   "source": [
    "# 2. 데이터 수집\n",
    "\n",
    "[ 내용 ]\n",
    "- 프로젝트 진행을 위해 필요한 데이터 수집\n",
    "- 사이킷런에 내장되어 있는 학습용 데이터 사용 금지\n",
    "- 수집한 데이터의 소스(사이트 및 링크) 반드시 기재 "
   ]
  },
  {
   "cell_type": "markdown",
   "id": "e31e409c",
   "metadata": {},
   "source": [
    "[ 데이터 수집 ]\n",
    "- 데이터 파일명 (# 필수 조건) : \n",
    "- 데이터 소스 (# 필수 조건) : \n",
    "- "
   ]
  },
  {
   "cell_type": "code",
   "execution_count": 2,
   "id": "ca429bb3",
   "metadata": {},
   "outputs": [],
   "source": [
    "# 데이터 수집"
   ]
  },
  {
   "cell_type": "code",
   "execution_count": null,
   "id": "6188bc7b",
   "metadata": {},
   "outputs": [],
   "source": []
  },
  {
   "cell_type": "markdown",
   "id": "abdad177",
   "metadata": {},
   "source": [
    "# 3. 데이터 전처리\n",
    "\n",
    "[ 내용 ]\n",
    "- 데이터 분석 및 모델 학습을 위한 구조로 데이터를 가공하거나 변형\n",
    "- 기본적으로 코드(판다스 및 넘파이 라이브러리 등 활용)를 통해 전처리 작업을 수행해야 하지만, 힘들 경우 데이터 파일 자체를 수정하여 전처리하여도 됨\n",
    "- (# 필수 조건 : 위의 경우, 수행해야 하는 전처리 작업과 수행하지 못한 이유를 작성해야 함)\n",
    "- 모든 전처리 작업이 수행된 최종 데이터를 명시해야 함"
   ]
  },
  {
   "cell_type": "markdown",
   "id": "62b8feda",
   "metadata": {},
   "source": [
    "[ 데이터 전처리 ]\n",
    "- 필요한 전처리 작업 : \n",
    "- 전처리 결과 : \n",
    "- "
   ]
  },
  {
   "cell_type": "code",
   "execution_count": 3,
   "id": "ed2d0bbc",
   "metadata": {},
   "outputs": [],
   "source": [
    "# 데이터 전처리"
   ]
  },
  {
   "cell_type": "code",
   "execution_count": null,
   "id": "4db1e7dd",
   "metadata": {},
   "outputs": [],
   "source": []
  },
  {
   "cell_type": "markdown",
   "id": "619f78a2",
   "metadata": {},
   "source": [
    "# 4. 데이터 분석\n",
    "\n",
    "[ 내용 ]\n",
    "- 수집한 데이터의 탐색 및 분석을 진행\n",
    "- 반드시 하나 이상의 그래프(맷플롯립 라이브러리 등 활용)를 활용해야 함 (# 필수 조건)\n",
    "- 매 데이터 분석의 결과를 명시해야 함 (# 필수 조건)"
   ]
  },
  {
   "cell_type": "markdown",
   "id": "30a86edf",
   "metadata": {},
   "source": [
    "[ 데이터 분석 ]\n",
    "- 분석 내용 : \n",
    "- 분석 결과 : \n",
    "- "
   ]
  },
  {
   "cell_type": "code",
   "execution_count": 4,
   "id": "4f7fb879",
   "metadata": {},
   "outputs": [],
   "source": [
    "# 데이터 분석"
   ]
  },
  {
   "cell_type": "code",
   "execution_count": null,
   "id": "e66e5530",
   "metadata": {},
   "outputs": [],
   "source": []
  },
  {
   "cell_type": "markdown",
   "id": "133ba38d",
   "metadata": {},
   "source": [
    "# 5. 모델 학습\n",
    "\n",
    "[ 내용 ] \n",
    "- 머신러닝 알고리즘(회귀 및 분류)을 사용하여 모델의 학습을 진행\n",
    "- 수업시간에 배운 것 이외의 알고리즘도 사용 가능함\n",
    "- (# 필수 조건 : 위의 경우, 해당 알고리즘의 원리 및 간단한 설명을 작성해야 함)\n",
    "- 반드시 '훈련 데이터'를 이용하여 모델의 학습을 진행해야 함 (# 필수 조건)"
   ]
  },
  {
   "cell_type": "markdown",
   "id": "50c8a61f",
   "metadata": {},
   "source": [
    "[ 모델 학습 ]\n",
    "- 사용한 머신러닝 알고리즘 (# 필수 조건) : \n",
    "- 해당 알고리즘의 원리 : \n",
    "- "
   ]
  },
  {
   "cell_type": "code",
   "execution_count": 5,
   "id": "8abecae2",
   "metadata": {},
   "outputs": [],
   "source": [
    "# 모델 학습"
   ]
  },
  {
   "cell_type": "code",
   "execution_count": null,
   "id": "d5fa12c6",
   "metadata": {},
   "outputs": [],
   "source": []
  },
  {
   "cell_type": "markdown",
   "id": "8871da5b",
   "metadata": {},
   "source": [
    "# 6. 모델 평가\n",
    "\n",
    "[ 내용 ]\n",
    "- 학습이 완료된 모델을 통해 값을 예측해보고, 최종적으로 모델의 성능을 평가\n",
    "- 반드시 '테스트 데이터'를 이용하여 모델의 학습을 진행해야 함 (# 필수 조건)"
   ]
  },
  {
   "cell_type": "markdown",
   "id": "f5613b4f",
   "metadata": {},
   "source": [
    "[ 모델 평가 ]\n",
    "- 성능 평가 결과 : \n",
    "- "
   ]
  },
  {
   "cell_type": "code",
   "execution_count": 6,
   "id": "50f43de1",
   "metadata": {},
   "outputs": [],
   "source": [
    "# 모델 평가"
   ]
  },
  {
   "cell_type": "code",
   "execution_count": null,
   "id": "be210c0e",
   "metadata": {},
   "outputs": [],
   "source": []
  },
  {
   "cell_type": "markdown",
   "id": "815d1a8b",
   "metadata": {},
   "source": [
    "# 프로젝트 마무리\n",
    "\n",
    "[ 결론 ]\n",
    "- 진행한 프로젝트 정리"
   ]
  },
  {
   "cell_type": "markdown",
   "id": "7461c4ca",
   "metadata": {},
   "source": [
    "- 요약 (# 필수 조건) : \n",
    "- 의의 (# 필수 조건) : \n",
    "- 느낀점 (# 필수 조건) : \n",
    "- "
   ]
  },
  {
   "cell_type": "code",
   "execution_count": null,
   "id": "f2e47f5a",
   "metadata": {},
   "outputs": [],
   "source": []
  }
 ],
 "metadata": {
  "kernelspec": {
   "display_name": "Python 3 (ipykernel)",
   "language": "python",
   "name": "python3"
  },
  "language_info": {
   "codemirror_mode": {
    "name": "ipython",
    "version": 3
   },
   "file_extension": ".py",
   "mimetype": "text/x-python",
   "name": "python",
   "nbconvert_exporter": "python",
   "pygments_lexer": "ipython3",
   "version": "3.9.12"
  }
 },
 "nbformat": 4,
 "nbformat_minor": 5
}
